{
 "cells": [
  {
   "cell_type": "code",
   "execution_count": null,
   "metadata": {},
   "outputs": [
    {
     "name": "stdout",
     "output_type": "stream",
     "text": [
      "[[2. 9.]\n",
      " [1. 5.]\n",
      " [3. 6.]]\n",
      "[[92.]\n",
      " [86.]\n",
      " [89.]]\n"
     ]
    }
   ],
   "source": [
    "import numpy as np\n",
    "\n",
    "x = np.array(([2, 9], [1, 5], [3, 6]), dtype=float)\n",
    "y = np.array(([92], [86], [89]), dtype=float)\n",
    "print(x)\n",
    "print(y)\n",
    "x = x / np.amax(x, axis=0)\n",
    "y = y / 100"
   ]
  },
  {
   "cell_type": "code",
   "execution_count": 4,
   "metadata": {},
   "outputs": [
    {
     "name": "stdout",
     "output_type": "stream",
     "text": [
      "[[0.66666667 1.        ]\n",
      " [0.33333333 0.55555556]\n",
      " [1.         0.66666667]]\n",
      "[[0.92]\n",
      " [0.86]\n",
      " [0.89]]\n"
     ]
    }
   ],
   "source": [
    "print(x)\n",
    "print(y)"
   ]
  },
  {
   "cell_type": "code",
   "execution_count": null,
   "metadata": {},
   "outputs": [],
   "source": [
    "def sigmoid(x):\n",
    "    return 1 / (1 + np.exp(-x))\n",
    "\n",
    "\n",
    "def derivatives_sigmoid(x):\n",
    "    return x * (1 - x)\n",
    "\n",
    "\n",
    "epoch = 5000\n",
    "lr = 0.1\n",
    "inputlayer_neurons = 2\n",
    "hiddenlayer_neurons = 3\n",
    "output_neurons = 1"
   ]
  },
  {
   "cell_type": "code",
   "execution_count": null,
   "metadata": {},
   "outputs": [],
   "source": [
    "wh = np.random.uniform(size=(inputlayer_neurons, hiddenlayer_neurons))\n",
    "bh = np.random.uniform(size=(1, hiddenlayer_neurons))\n",
    "wout = np.random.uniform(size=(hiddenlayer_neurons, output_neurons))\n",
    "bout = np.random.uniform(size=(1, output_neurons))"
   ]
  },
  {
   "cell_type": "code",
   "execution_count": 8,
   "metadata": {},
   "outputs": [
    {
     "name": "stdout",
     "output_type": "stream",
     "text": [
      "[[0.1961993  0.27094342 0.29102008]\n",
      " [0.80566433 0.26823431 0.02057251]]\n",
      "[[0.77813309 0.23467704 0.81122203]]\n",
      "[[0.54091735]\n",
      " [0.44503714]\n",
      " [0.08714422]]\n",
      "[[0.19475703]]\n"
     ]
    }
   ],
   "source": [
    "print(wh)\n",
    "print(bh)\n",
    "print(wout)\n",
    "print(bout)"
   ]
  },
  {
   "cell_type": "code",
   "execution_count": 32,
   "metadata": {},
   "outputs": [
    {
     "name": "stdout",
     "output_type": "stream",
     "text": [
      "Input: \n",
      " [[0.66666667 1.        ]\n",
      " [0.33333333 0.55555556]\n",
      " [1.         0.66666667]]\n",
      "Actual output: \n",
      " [[0.92]\n",
      " [0.86]\n",
      " [0.89]]\n",
      "Predicted output: \n",
      " [[0.90129896]\n",
      " [0.872398  ]\n",
      " [0.89654132]]\n"
     ]
    }
   ],
   "source": [
    "# for i in range(epoch):\n",
    "#     hinop = sigmoid(np.dot(x, wh) + bh)\n",
    "#     op = sigmoid(np.dot(hinop, wout) + bout)\n",
    "\n",
    "#     dop = derivatives_sigmoid(op) * (y - op)\n",
    "#     dhn = derivatives_sigmoid(hinop) * np.dot(wout, dop.T)\n",
    "\n",
    "#     wout += lr * np.dot(hinop.T, dop)\n",
    "#     wh += lr * np.dot(x.T, dhn)\n",
    "for _ in range(epoch):\n",
    "    # Forward Propagation\n",
    "    hidden = sigmoid(np.dot(x, wh))\n",
    "    output = sigmoid(np.dot(hidden, wout))\n",
    "\n",
    "    # Backpropagation\n",
    "    output_error = y - output\n",
    "    output_delta = output_error * derivatives_sigmoid(output)\n",
    "\n",
    "    hidden_error = np.dot(wout.T, output_delta)\n",
    "    hidden_delta = hidden_error * derivatives_sigmoid(hidden)\n",
    "\n",
    "    # Update weights\n",
    "    wout += np.dot(hidden.T, output_delta) * lr\n",
    "    wh += np.dot(x.T, hidden_delta) * lr\n",
    "\n",
    "# Print results\n",
    "print(\"Input: \\n\", x)\n",
    "print(\"Actual output: \\n\", y)\n",
    "print(\"Predicted output: \\n\", output)"
   ]
  },
  {
   "cell_type": "code",
   "execution_count": 33,
   "metadata": {},
   "outputs": [
    {
     "name": "stdout",
     "output_type": "stream",
     "text": [
      "Input: \n",
      " [[0.66666667 1.        ]\n",
      " [0.33333333 0.55555556]\n",
      " [1.         0.66666667]]\n",
      "Actual output: \n",
      " [[0.92]\n",
      " [0.86]\n",
      " [0.89]]\n",
      "Predicted output: \n",
      " [[0.90129925]\n",
      " [0.87174721]\n",
      " [0.8958699 ]]\n"
     ]
    }
   ],
   "source": [
    "# for i in range(epoch):\n",
    "#     hinop = sigmoid(np.dot(x, wh) + bh)\n",
    "#     op = sigmoid(np.dot(hinop, wout) + bout)\n",
    "\n",
    "#     dop = derivatives_sigmoid(op) * (y - op)\n",
    "#     dhn = derivatives_sigmoid(hinop) * np.dot(wout, dop.T)\n",
    "\n",
    "#     wout += lr * np.dot(hinop.T, dop)\n",
    "#     wh += lr * np.dot(x.T, dhn)\n",
    "for _ in range(epoch):\n",
    "    # Forward Propagation\n",
    "    hidden = sigmoid(np.dot(x, wh))\n",
    "    output = sigmoid(np.dot(hidden, wout))\n",
    "\n",
    "    # Backpropagation\n",
    "    output_error = y - output\n",
    "    output_delta = output_error * derivatives_sigmoid(output)\n",
    "\n",
    "    hidden_error = np.dot(output_delta, wout.T)\n",
    "    hidden_delta = hidden_error * derivatives_sigmoid(hidden)\n",
    "\n",
    "    # Update weights\n",
    "    wout += np.dot(hidden.T, output_delta) * lr\n",
    "    wh += np.dot(x.T, hidden_delta) * lr\n",
    "\n",
    "# Print results\n",
    "print(\"Input: \\n\", x)\n",
    "print(\"Actual output: \\n\", y)\n",
    "print(\"Predicted output: \\n\", output)"
   ]
  },
  {
   "cell_type": "code",
   "execution_count": null,
   "metadata": {},
   "outputs": [],
   "source": [
    "# for i in range(epoch):\n",
    "#     hinp1 = np.dot(x, wh)\n",
    "#     hinp = hinp1 + bh\n",
    "#     hlayer_act = sigmoid(hinp)\n",
    "#     outinp1 = np.dot(hlayer_act, wout)\n",
    "#     outinp = outinp1 + bout\n",
    "#     output = sigmoid(outinp)\n",
    "\n",
    "#     ED = y - output\n",
    "#     outgrad = derivatives_sigmoid(output)\n",
    "#     d_output = ED * outgrad\n",
    "#     EH = d_output.dot(wout.T)\n",
    "#     hiddengrad = derivatives_sigmoid(hlayer_act)\n",
    "#     d_hidden = EH * hiddengrad\n",
    "#     wout += hlayer_act.T.dot(d_output) * lr\n",
    "#     wh += x.T.dot(d_hidden) * lr"
   ]
  }
 ],
 "metadata": {
  "kernelspec": {
   "display_name": "env",
   "language": "python",
   "name": "python3"
  },
  "language_info": {
   "codemirror_mode": {
    "name": "ipython",
    "version": 3
   },
   "file_extension": ".py",
   "mimetype": "text/x-python",
   "name": "python",
   "nbconvert_exporter": "python",
   "pygments_lexer": "ipython3",
   "version": "3.12.2"
  }
 },
 "nbformat": 4,
 "nbformat_minor": 2
}
